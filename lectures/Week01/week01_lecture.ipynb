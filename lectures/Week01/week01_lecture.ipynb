{
 "cells": [
  {
   "cell_type": "markdown",
   "metadata": {
    "slideshow": {
     "slide_type": "slide"
    }
   },
   "source": [
    "# Week 01 - Introduction to Modern Data Structures\n",
    "\n",
    "Our github course site is a private repository. Please sign up here to be part of the club.  \n",
    "http://bit.ly/mds-columbia-2020"
   ]
  },
  {
   "cell_type": "markdown",
   "metadata": {
    "slideshow": {
     "slide_type": "slide"
    }
   },
   "source": [
    "## Link to the course material\n",
    "\n",
    "https://github.com/QMSS-G5072-2020/course_content"
   ]
  },
  {
   "cell_type": "markdown",
   "metadata": {
    "cell_style": "split",
    "slideshow": {
     "slide_type": "subslide"
    }
   },
   "source": [
    "## Who am I\n",
    "\n",
    "Thomas Brambor\n",
    "\n",
    "Email: thomas.brambor@columbia.edu\n",
    "\n",
    "Office hours: Mondays 5.30pm - 6.30pm and by appointment. [Zoom Link OH](https://columbiauniversity.zoom.us/meeting/tJAqcuCtpzIqEtYwhjI_BOfS-OQsEeAOHA8K/ics?icsToken=98tyKuCsqT4jH92csBGFRowIB4_4Xe_xmFhfj7dkixfvKh9xTQXFe81zIZd6Mff4)\n",
    "\n"
   ]
  },
  {
   "cell_type": "markdown",
   "metadata": {
    "cell_style": "split",
    "slideshow": {
     "slide_type": "fragment"
    }
   },
   "source": [
    "![](images/tb_avatar.png)"
   ]
  },
  {
   "cell_type": "markdown",
   "metadata": {
    "slideshow": {
     "slide_type": "slide"
    }
   },
   "source": [
    "## Your TAs\n",
    "\n",
    "TA1: Xiaoyu Dai\n",
    "[xd2236@columbia.edu](xd2236@columbia.edu)  \n",
    "Office Hours: Th 2-4pm (odd weeks)  \n",
    "Section: Th 3-4pm (even weeks)\n",
    "\n",
    "TA2: Wenjun Sun\n",
    "[wenjun.sun@columbia.edu](wenjun.sun@columbia.edu)  \n",
    "Office Hours: Fr 2-4pm (even weeks)  \n",
    "Section: Fr 2-3pm (odd weeks)"
   ]
  },
  {
   "cell_type": "markdown",
   "metadata": {
    "slideshow": {
     "slide_type": "slide"
    }
   },
   "source": [
    "## Who are you?\n",
    "\n",
    "- Background / Discipline: Economics, History, Political Science, Psychology, Sociology, CS, Statistics, Other?\n",
    "- in QMSS / other program?\n",
    "- Just off the boat, or here second year?\n",
    "- used Python before this course? Before QMSS?\n",
    "- used other programming language(s) before, e.g. R, Matlab, SAS, SQL, Java etc.?\n",
    "- used GitHub?\n",
    "- used a web API before? web scraping?"
   ]
  },
  {
   "cell_type": "markdown",
   "metadata": {
    "lines_to_next_cell": 2,
    "out.width": "105%",
    "slideshow": {
     "slide_type": "slide"
    },
    "tags": [
     "remove_input"
    ]
   },
   "source": [
    "# The Data in Data Science \n",
    "![](images/data_binary.jpg)"
   ]
  },
  {
   "cell_type": "markdown",
   "metadata": {
    "slideshow": {
     "slide_type": "slide"
    }
   },
   "source": [
    "## \n",
    "\n",
    "<span style=\"font-weight:bold; font-size:230%;\">\n",
    "Water, water, everywhere,  \n",
    "nor any drop to drink.  \n",
    "</span>\n",
    "\n",
    "      in The Rime of the Ancient Mariner, by Samuel Taylor Coleridge"
   ]
  },
  {
   "cell_type": "markdown",
   "metadata": {
    "slideshow": {
     "slide_type": "slide"
    }
   },
   "source": [
    "## \n",
    "<span style=\"font-weight:bold; font-size:230%;\">\n",
    "Data, Data, everywhere,    \n",
    "nor any thought to think.  \n",
    "</span>\n",
    "\n",
    "      random dude on twitter"
   ]
  },
  {
   "cell_type": "markdown",
   "metadata": {
    "slideshow": {
     "slide_type": "slide"
    }
   },
   "source": [
    "## Data Wrangling\n",
    "\n",
    "![](images/filing-cabinet.jpg)"
   ]
  },
  {
   "cell_type": "markdown",
   "metadata": {
    "slideshow": {
     "slide_type": "slide"
    }
   },
   "source": [
    "## Analytical Process\n",
    "\n",
    "![](images/Wickham_tidyverse1.png)"
   ]
  },
  {
   "cell_type": "markdown",
   "metadata": {
    "slideshow": {
     "slide_type": "slide"
    }
   },
   "source": [
    "## Analytical Process\n",
    "\n",
    "![](images/Wickham_tidyverse2.png)"
   ]
  },
  {
   "cell_type": "markdown",
   "metadata": {
    "slideshow": {
     "slide_type": "slide"
    }
   },
   "source": [
    "## Analytical Process\n",
    "\n",
    "![](images/Wickham_tidyverse3.png)"
   ]
  },
  {
   "cell_type": "markdown",
   "metadata": {
    "slideshow": {
     "slide_type": "slide"
    }
   },
   "source": [
    "## Data Wrangling\n",
    "\n",
    "![](images/data_wrangling_horses.jpeg)"
   ]
  },
  {
   "cell_type": "markdown",
   "metadata": {
    "slideshow": {
     "slide_type": "slide"
    }
   },
   "source": [
    "# Course Outline\n",
    "\n",
    "### Part 1 - Data Manipulation & Coding\n",
    "### Part 2 - Getting Data In\n",
    "### Part 3 - Cloud Computing"
   ]
  },
  {
   "cell_type": "markdown",
   "metadata": {
    "slideshow": {
     "slide_type": "slide"
    }
   },
   "source": [
    "## Part 0: Python Setup and Dependencies\n",
    "\n",
    "![](images/virtual_env.png)"
   ]
  },
  {
   "cell_type": "markdown",
   "metadata": {
    "slideshow": {
     "slide_type": "subslide"
    }
   },
   "source": [
    "![](images/pyenv_plus_poetry.png)"
   ]
  },
  {
   "cell_type": "markdown",
   "metadata": {
    "slideshow": {
     "slide_type": "subslide"
    }
   },
   "source": [
    "![](images/github_social_coding.png)"
   ]
  },
  {
   "cell_type": "markdown",
   "metadata": {
    "slideshow": {
     "slide_type": "slide"
    }
   },
   "source": [
    "# Part 1 - Data Manipulation & Coding\n",
    "\n",
    "![](images/Wickham_tidyverse1.png)\n"
   ]
  },
  {
   "cell_type": "markdown",
   "metadata": {
    "slideshow": {
     "slide_type": "subslide"
    }
   },
   "source": [
    "## \n",
    "\n",
    "<span style=\"font-weight:bold; font-size:230%;\">\n",
    "No matter how complex and polished the individual operations are, it is often the quality of the glue that most directly determines the power of the system.\n",
    "</span>\n",
    "— Hal Abelson   "
   ]
  },
  {
   "cell_type": "markdown",
   "metadata": {
    "slideshow": {
     "slide_type": "slide"
    }
   },
   "source": [
    "## Data Wrangling with Pandas\n",
    "\n",
    "![](images/pandas.png)"
   ]
  },
  {
   "cell_type": "markdown",
   "metadata": {
    "slideshow": {
     "slide_type": "subslide"
    }
   },
   "source": [
    "## `pandas` basics\n",
    "\n",
    "**Import**:  \n",
    "  - import different kinds of rectangular data (e.g. csv, tsc, fwf) in a fast and friendly way\n",
    "  \n",
    "**Tidy**:  \n",
    "  - reshape the layout of dataframes\n",
    "  \n",
    "**Transform**:   \n",
    "  - functions to manipulate and transform data frames\n",
    "  - Includes select, filter, group, summarize, sort, aggregate, join etc. \n",
    "\n",
    "**Data Types**:  \n",
    "  - How to work with the different types of data such as numerics, strings, factors, and dates"
   ]
  },
  {
   "cell_type": "markdown",
   "metadata": {
    "out.width": "90%",
    "slideshow": {
     "slide_type": "subslide"
    },
    "tags": [
     "remove_input"
    ]
   },
   "source": [
    "![](images/pandas_expert.png)"
   ]
  },
  {
   "cell_type": "markdown",
   "metadata": {
    "slideshow": {
     "slide_type": "slide"
    }
   },
   "source": [
    "![](images/hal_abelson_people_read_code.jpg)"
   ]
  },
  {
   "cell_type": "markdown",
   "metadata": {
    "slideshow": {
     "slide_type": "subslide"
    }
   },
   "source": [
    "## Functions and Functional Programming\n",
    "\n",
    "![](images/keepcalm_dontcopy.jpg)\n",
    "\n"
   ]
  },
  {
   "cell_type": "markdown",
   "metadata": {
    "slideshow": {
     "slide_type": "subslide"
    }
   },
   "source": [
    "## Functions and Functional Programming\n",
    "\n",
    "- avoid repetitive code by using functions\n",
    "- functional programming:\n",
    "    - Loops, Iterators, Generators\n",
    "    - Anonymous functions\n",
    "    - Lists of functions\n",
    "    - Classes\n",
    "    \n",
    "![](images/args_and_kwargs_python.png)"
   ]
  },
  {
   "cell_type": "markdown",
   "metadata": {
    "out.width": "100%",
    "slideshow": {
     "slide_type": "slide"
    },
    "tags": [
     "remove_input"
    ]
   },
   "source": [
    "## Free Expressions and Strings\n",
    "\n",
    "- strings usually contain unstructured or semi-structured data\n",
    "- handling and processing strings with built-in string functions\n",
    "- using regular expressions - a concise language for describing patterns in strings. \n",
    "\n",
    "![](images/emailregex.jpg)"
   ]
  },
  {
   "cell_type": "markdown",
   "metadata": {
    "slideshow": {
     "slide_type": "subslide"
    }
   },
   "source": [
    "## Regular Expressions\n",
    "\n",
    "![](images/cat-like-typing-detected.gif)"
   ]
  },
  {
   "cell_type": "markdown",
   "metadata": {
    "slideshow": {
     "slide_type": "slide"
    }
   },
   "source": [
    "## Testing\n",
    "\n",
    "![](images/pytest_book.jpeg)"
   ]
  },
  {
   "cell_type": "markdown",
   "metadata": {
    "slideshow": {
     "slide_type": "slide"
    }
   },
   "source": [
    "## Create your own python package\n",
    "\n",
    "![](images/pip_package.jpg)"
   ]
  },
  {
   "cell_type": "markdown",
   "metadata": {
    "slideshow": {
     "slide_type": "slide"
    }
   },
   "source": [
    "# Part 2 - Getting Data In\n",
    "\n",
    "![](images/automated_data_collection.png)"
   ]
  },
  {
   "cell_type": "markdown",
   "metadata": {
    "slideshow": {
     "slide_type": "slide"
    }
   },
   "source": [
    "## Getting Data In\n",
    "\n",
    "- importing data from a single file on disk (or stored online) is only one way of getting data\n",
    "- we will explore other types of data\n",
    "\n",
    "![](images/files_with_pandas.png)"
   ]
  },
  {
   "cell_type": "markdown",
   "metadata": {
    "slideshow": {
     "slide_type": "slide"
    }
   },
   "source": [
    "## APIs\n",
    "\n",
    "Access some well-known web APIs.\n",
    "\n",
    "<!-- images/nytimes_api.png -->\n",
    "![](images/spotify_api_eilish.png)\n",
    "\n"
   ]
  },
  {
   "cell_type": "markdown",
   "metadata": {
    "slideshow": {
     "slide_type": "slide"
    }
   },
   "source": [
    "## Handling JSON and XML\n",
    "\n",
    "- APIs usually return data in JSON or XML format as exchange format\n",
    "- We will learn how to deal with these formats in Python and transform them into rectangular data formats.\n",
    "\n",
    "![](images/xml_json.svg)"
   ]
  },
  {
   "cell_type": "markdown",
   "metadata": {
    "slideshow": {
     "slide_type": "slide"
    }
   },
   "source": [
    "## Screen Scraping from HTML\n",
    "\n",
    "- Screen scraping refers to a type of computer program that:\n",
    "    - reads in a web page  \n",
    "    - finds some information on it\n",
    "    - grabs the information\n",
    "    - stores it in a data set\n",
    "    \n",
    "- But HTML is messy. Will need to select the right elements and clean it up.\n",
    "\n",
    "- Old school way of getting information. Many websites do not allow it anymore (TOS) and/or make it difficult."
   ]
  },
  {
   "cell_type": "markdown",
   "metadata": {
    "slideshow": {
     "slide_type": "slide"
    }
   },
   "source": [
    "## Relational Databases\n",
    "\n",
    "- databases consisting of multiple tables of data are called **relational data** because it is the relations, not just the individual data sets, that are important.  \n",
    "- **SQL** allows to interact with such databases to modify, insert, remove, or request data  \n",
    "- we can use Python to interact with SQL databases directly\n",
    "\n",
    "![](images/reldata_movies.gif) ![](images/sqlalchemy_logo.png)"
   ]
  },
  {
   "cell_type": "markdown",
   "metadata": {
    "slideshow": {
     "slide_type": "slide"
    }
   },
   "source": [
    "# Part 3 - Cloud Computing and Big Data Considerations\n",
    "\n",
    "> We have big data when the computing time for the calculation takes longer than the cognitive process of designing a model.\n"
   ]
  },
  {
   "cell_type": "markdown",
   "metadata": {
    "out.width": "80%",
    "slideshow": {
     "slide_type": "slide"
    },
    "tags": [
     "remove_input"
    ]
   },
   "source": [
    "## What is big data?\n",
    "\n",
    "![](images/bigdata_3Vs.png)"
   ]
  },
  {
   "cell_type": "markdown",
   "metadata": {
    "slideshow": {
     "slide_type": "slide"
    }
   },
   "source": [
    "## What do we need to know?\n",
    "\n",
    "- computing power becomes a real constraint\n",
    "- **efficiency** and **structure** matters (more)\n",
    "\n",
    "- Can we use Python to analyze big data?\n",
    "    - bigger hardware\n",
    "    - piece wise analysis\n",
    "    - sampling\n",
    "    - parallelization\n",
    "    - higher performing programming languages like C++ or Java"
   ]
  },
  {
   "cell_type": "markdown",
   "metadata": {
    "slideshow": {
     "slide_type": "slide"
    }
   },
   "source": [
    "## Amazon Web Services (AWS)\n",
    "\n",
    "![](images/python_aws.png)"
   ]
  },
  {
   "cell_type": "markdown",
   "metadata": {
    "slideshow": {
     "slide_type": "slide"
    }
   },
   "source": [
    "## Spark\n",
    "\n",
    "![](images/spark_jupyter.png)"
   ]
  },
  {
   "cell_type": "markdown",
   "metadata": {
    "slideshow": {
     "slide_type": "slide"
    }
   },
   "source": [
    "## Airflow\n",
    "\n",
    "![](images/airflow_example.png)"
   ]
  },
  {
   "cell_type": "markdown",
   "metadata": {
    "slideshow": {
     "slide_type": "slide"
    }
   },
   "source": [
    "# Some Administrative Things\n",
    "\n",
    "## Lectures\n",
    "\n",
    "- Mondays 8.10 - 10pm EST\n",
    "- All lectures recorded. But live attendance and participation is encouraged!\n",
    "\n",
    "![](images/zoom_meeting.png)"
   ]
  },
  {
   "cell_type": "markdown",
   "metadata": {
    "slideshow": {
     "slide_type": "subslide"
    }
   },
   "source": [
    "## Books & Readings\n",
    "\n",
    "- No required text book. Yay!\n",
    "- Several recommended books. Chapters assigned as needed. Links to PDF/HTML versions on the syllabus.\n",
    "\n",
    "![](images/book_covers.png)"
   ]
  },
  {
   "cell_type": "markdown",
   "metadata": {
    "slideshow": {
     "slide_type": "subslide"
    }
   },
   "source": [
    "## Datacamp\n",
    "\n",
    "![](images/datacamp_logo.png)"
   ]
  },
  {
   "cell_type": "markdown",
   "metadata": {
    "slideshow": {
     "slide_type": "subslide"
    }
   },
   "source": [
    "## Taking Notes\n",
    "\n",
    "- in class there will be a lot of back and forth between general explanatory material, bits of code, comments to ourselves, and other stuff\n",
    "\n",
    "- My suggestion: take notes in a copy of the class jupyter notebook\n",
    "\n",
    "- For your assignments, this is also a good option.\n",
    "\n",
    "![](images/jupyter_notebooks.png)"
   ]
  },
  {
   "cell_type": "code",
   "execution_count": null,
   "metadata": {},
   "outputs": [],
   "source": []
  },
  {
   "cell_type": "markdown",
   "metadata": {
    "slideshow": {
     "slide_type": "subslide"
    }
   },
   "source": [
    "\n",
    "## Why Jupyter Notebooks?\n",
    "\n",
    "PRO:\n",
    "\n",
    "- Reproducible. For others and your later (forgetful) self.\n",
    "\n",
    "- Live document. Combining code and output. Changes to your data or code will immediately update.\n",
    "\n",
    "- supports numerous static and dynamic output formats including HTML, PDF, MS Word, Beamer, slides\n",
    "\n",
    "- suports over 100 programming languages\n",
    "\n",
    "CON: \n",
    "\n",
    "- Jupyter notebooks are not great for production code"
   ]
  },
  {
   "cell_type": "markdown",
   "metadata": {
    "slideshow": {
     "slide_type": "subslide"
    }
   },
   "source": [
    "## Course Website\n",
    "\n",
    "- Campuswire course site for discussion forum and announcements. Make sure to set your notification settings right.\n",
    "\n",
    "- All lectures slides, in-class exercises, homework, code etc. will be made available here: https://github.com/QMSS-G5072-2020/course_content\n",
    "\n",
    "- All homework submitted via Github. Introduction to GitHub will follow."
   ]
  },
  {
   "cell_type": "markdown",
   "metadata": {},
   "source": [
    "## Campuswire\n",
    "\n",
    "All students currently enrolled are already part of campuswire. If not, please add yourself.\n",
    "\n",
    "Link to course on Campuswire: https://campuswire.com/c/G27163EBA\n",
    "\n",
    "If you have not joined yet, please use this [invite link](https://campuswire.com/p/G27163EBA) and the code `1110` to sign up for the course.\n",
    "\n",
    "![](images/campuswire_logo.png)"
   ]
  },
  {
   "cell_type": "markdown",
   "metadata": {
    "slideshow": {
     "slide_type": "subslide"
    }
   },
   "source": [
    "\n",
    "\n",
    "## Assignments \n",
    "\n",
    "- Final exam/project (30%)\n",
    "\n",
    "- Assignments (60%): short weekly individual assignments.\n",
    "\n",
    "- Participation & Attendance (10%)"
   ]
  },
  {
   "cell_type": "markdown",
   "metadata": {
    "out.width": "100%",
    "slideshow": {
     "slide_type": "slide"
    },
    "tags": [
     "remove_input"
    ]
   },
   "source": [
    "## Is this the right class for me?\n",
    "\n",
    "![](images/data_pre90percent.jpeg)"
   ]
  },
  {
   "cell_type": "markdown",
   "metadata": {
    "slideshow": {
     "slide_type": "subslide"
    }
   },
   "source": [
    "## Getting a DS job"
   ]
  },
  {
   "cell_type": "markdown",
   "metadata": {
    "lines_to_next_cell": 2,
    "out.width": "80%",
    "slideshow": {
     "slide_type": "subslide"
    },
    "tags": [
     "remove_input"
    ]
   },
   "source": [
    "![](images/job_interview_ikea.jpg)"
   ]
  },
  {
   "cell_type": "markdown",
   "metadata": {
    "slideshow": {
     "slide_type": "subslide"
    }
   },
   "source": [
    "## Should I take this class?\n",
    "\n",
    "![](images/coders.png)"
   ]
  },
  {
   "cell_type": "markdown",
   "metadata": {
    "slideshow": {
     "slide_type": "slide"
    }
   },
   "source": [
    "## Git and Github. Why?\n",
    "\n",
    "* Git\n",
    "    - version control is good (for many reasons)\n",
    "    - master-branch workflow\n",
    "    - distributed (rather than centralized) version control\n",
    "    - pull requests to manage/discuss updates\n",
    "    - de facto standard on version control\n",
    "\n",
    "* GitHub\n",
    "    - Github is like facebook for programmers. Everyone is on there. \n",
    "    - open source\n",
    "    - lowers the barriers to collaboration"
   ]
  }
 ],
 "metadata": {
  "celltoolbar": "Slideshow",
  "jupytext": {
   "cell_metadata_filter": "out.width,message,tags,name,warning,-all",
   "main_language": "R",
   "notebook_metadata_filter": "-all"
  },
  "kernelspec": {
   "display_name": "mds",
   "language": "python",
   "name": "mds"
  },
  "language_info": {
   "codemirror_mode": {
    "name": "ipython",
    "version": 3
   },
   "file_extension": ".py",
   "mimetype": "text/x-python",
   "name": "python",
   "nbconvert_exporter": "python",
   "pygments_lexer": "ipython3",
   "version": "3.8.5"
  }
 },
 "nbformat": 4,
 "nbformat_minor": 4
}
